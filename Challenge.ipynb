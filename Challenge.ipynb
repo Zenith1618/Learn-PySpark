{
  "nbformat": 4,
  "nbformat_minor": 0,
  "metadata": {
    "colab": {
      "provenance": [],
      "authorship_tag": "ABX9TyOrR7Vjo88yVGclsEWrQcpQ",
      "include_colab_link": true
    },
    "kernelspec": {
      "name": "python3",
      "display_name": "Python 3"
    },
    "language_info": {
      "name": "python"
    }
  },
  "cells": [
    {
      "cell_type": "markdown",
      "metadata": {
        "id": "view-in-github",
        "colab_type": "text"
      },
      "source": [
        "<a href=\"https://colab.research.google.com/github/Zenith1618/Learn-PySpark/blob/main/Challenge.ipynb\" target=\"_parent\"><img src=\"https://colab.research.google.com/assets/colab-badge.svg\" alt=\"Open In Colab\"/></a>"
      ]
    },
    {
      "cell_type": "code",
      "execution_count": 1,
      "metadata": {
        "colab": {
          "base_uri": "https://localhost:8080/",
          "height": 219
        },
        "id": "2uuzocdeDxu7",
        "outputId": "1fb271f8-77ea-4153-c0b9-e82ae66b98b6"
      },
      "outputs": [
        {
          "output_type": "execute_result",
          "data": {
            "text/plain": [
              "<pyspark.sql.session.SparkSession at 0x7ea369794f90>"
            ],
            "text/html": [
              "\n",
              "            <div>\n",
              "                <p><b>SparkSession - in-memory</b></p>\n",
              "                \n",
              "        <div>\n",
              "            <p><b>SparkContext</b></p>\n",
              "\n",
              "            <p><a href=\"http://a70a0b30935d:4040\">Spark UI</a></p>\n",
              "\n",
              "            <dl>\n",
              "              <dt>Version</dt>\n",
              "                <dd><code>v3.1.1</code></dd>\n",
              "              <dt>Master</dt>\n",
              "                <dd><code>local[*]</code></dd>\n",
              "              <dt>AppName</dt>\n",
              "                <dd><code>pyspark-shell</code></dd>\n",
              "            </dl>\n",
              "        </div>\n",
              "        \n",
              "            </div>\n",
              "        "
            ]
          },
          "metadata": {},
          "execution_count": 1
        }
      ],
      "source": [
        "!apt-get install openjdk-8-jdk-headless -qq > /dev/null\n",
        "!wget -q http://archive.apache.org/dist/spark/spark-3.1.1/spark-3.1.1-bin-hadoop3.2.tgz\n",
        "!tar xf spark-3.1.1-bin-hadoop3.2.tgz\n",
        "!pip install -q findspark\n",
        "import os\n",
        "os.environ[\"JAVA_HOME\"] = \"/usr/lib/jvm/java-8-openjdk-amd64\"\n",
        "os.environ[\"SPARK_HOME\"] = \"/content/spark-3.1.1-bin-hadoop3.2\"\n",
        "import findspark\n",
        "findspark.init()\n",
        "from pyspark.sql import SparkSession\n",
        "spark = SparkSession.builder.master(\"local[*]\").getOrCreate()\n",
        "spark"
      ]
    },
    {
      "cell_type": "code",
      "source": [
        "df = spark.read.format('csv').option('header', 'true').load(\"challenge.csv\")"
      ],
      "metadata": {
        "id": "EQ3sQZHRD3We"
      },
      "execution_count": 2,
      "outputs": []
    },
    {
      "cell_type": "code",
      "source": [
        "df.dtypes"
      ],
      "metadata": {
        "colab": {
          "base_uri": "https://localhost:8080/"
        },
        "id": "AS_tgIPLEZm2",
        "outputId": "905e27fa-b872-45c7-f844-66ee7ff56175"
      },
      "execution_count": 3,
      "outputs": [
        {
          "output_type": "execute_result",
          "data": {
            "text/plain": [
              "[('ip_address', 'string'),\n",
              " ('Country', 'string'),\n",
              " ('Domain Name', 'string'),\n",
              " ('Bytes_used', 'string')]"
            ]
          },
          "metadata": {},
          "execution_count": 3
        }
      ]
    },
    {
      "cell_type": "code",
      "source": [
        "from pyspark.sql.types import *\n",
        "\n",
        "myschema = StructType([\n",
        "    StructField('ip_address', StringType()),\n",
        "    StructField('Country', StringType()),\n",
        "    StructField('Domain Name', StringType()),\n",
        "    StructField('Bytes_used', IntegerType())\n",
        "])\n",
        "\n",
        "df = spark.read.csv(\"challenge.csv\", header=True, schema=myschema)\n",
        "df.show()"
      ],
      "metadata": {
        "colab": {
          "base_uri": "https://localhost:8080/"
        },
        "id": "emDWhvD5EcoO",
        "outputId": "2008f9fa-1f21-4fc5-f323-fa36a33d85a2"
      },
      "execution_count": 19,
      "outputs": [
        {
          "output_type": "stream",
          "name": "stdout",
          "text": [
            "+---------------+--------------+-----------------+----------+\n",
            "|     ip_address|       Country|      Domain Name|Bytes_used|\n",
            "+---------------+--------------+-----------------+----------+\n",
            "|  52.81.192.172|         China| odnoklassniki.ru|       463|\n",
            "| 119.239.207.13|         China|         youtu.be|        51|\n",
            "|  68.69.217.210|         China|        adobe.com|        10|\n",
            "|   7.191.21.223|      Bulgaria|     linkedin.com|       853|\n",
            "|   211.13.10.68|     Indonesia|          hud.gov|        29|\n",
            "|   239.80.21.97|      Suriname|       smh.com.au|       218|\n",
            "|106.214.106.233|       Jamaica|    amazonaws.com|        95|\n",
            "| 127.242.24.138|         China| surveymonkey.com|       123|\n",
            "|     99.2.6.139|Czech Republic|     geocities.jp|       322|\n",
            "|   237.54.11.63|         China|       amazon.com|        83|\n",
            "| 252.141.157.25|         Japan|      cornell.edu|       374|\n",
            "|185.220.128.248|       Belgium|       weebly.com|       389|\n",
            "|   151.77.19.45|   Afghanistan|independent.co.uk|       282|\n",
            "|  9.161.158.225|     Indonesia|    bloglines.com|       726|\n",
            "| 156.144.61.155|Czech Republic|   slideshare.net|       657|\n",
            "|   8.96.188.151|     Indonesia|          ibm.com|       517|\n",
            "|      5.72.7.65|        Mexico|         youtu.be|       877|\n",
            "|227.110.112.144|       Croatia|         ehow.com|       287|\n",
            "|    81.71.28.97|      Thailand|          last.fm|       588|\n",
            "|  9.255.129.184|      Thailand|          mtv.com|       114|\n",
            "+---------------+--------------+-----------------+----------+\n",
            "only showing top 20 rows\n",
            "\n"
          ]
        }
      ]
    },
    {
      "cell_type": "code",
      "source": [
        "df.dtypes"
      ],
      "metadata": {
        "colab": {
          "base_uri": "https://localhost:8080/"
        },
        "id": "ZBrdjK0IFYCd",
        "outputId": "f8bc3472-12fe-407d-cae3-e2c774c62858"
      },
      "execution_count": 20,
      "outputs": [
        {
          "output_type": "execute_result",
          "data": {
            "text/plain": [
              "[('ip_address', 'string'),\n",
              " ('Country', 'string'),\n",
              " ('Domain Name', 'string'),\n",
              " ('Bytes_used', 'int')]"
            ]
          },
          "metadata": {},
          "execution_count": 20
        }
      ]
    },
    {
      "cell_type": "code",
      "source": [
        "from pyspark.sql.functions import *\n",
        "df = df.withColumn('Mexico', when(df.Country == \"Mexico\", \"YES\").otherwise(\"NO\"))"
      ],
      "metadata": {
        "id": "2q5lCr7cFbOr"
      },
      "execution_count": 21,
      "outputs": []
    },
    {
      "cell_type": "code",
      "source": [
        "df.show()"
      ],
      "metadata": {
        "colab": {
          "base_uri": "https://localhost:8080/"
        },
        "id": "NH-YWQZZF80j",
        "outputId": "ad6e9e8b-9113-4e1a-d2b3-73f70b9a50de"
      },
      "execution_count": 22,
      "outputs": [
        {
          "output_type": "stream",
          "name": "stdout",
          "text": [
            "+---------------+--------------+-----------------+----------+------+\n",
            "|     ip_address|       Country|      Domain Name|Bytes_used|Mexico|\n",
            "+---------------+--------------+-----------------+----------+------+\n",
            "|  52.81.192.172|         China| odnoklassniki.ru|       463|    NO|\n",
            "| 119.239.207.13|         China|         youtu.be|        51|    NO|\n",
            "|  68.69.217.210|         China|        adobe.com|        10|    NO|\n",
            "|   7.191.21.223|      Bulgaria|     linkedin.com|       853|    NO|\n",
            "|   211.13.10.68|     Indonesia|          hud.gov|        29|    NO|\n",
            "|   239.80.21.97|      Suriname|       smh.com.au|       218|    NO|\n",
            "|106.214.106.233|       Jamaica|    amazonaws.com|        95|    NO|\n",
            "| 127.242.24.138|         China| surveymonkey.com|       123|    NO|\n",
            "|     99.2.6.139|Czech Republic|     geocities.jp|       322|    NO|\n",
            "|   237.54.11.63|         China|       amazon.com|        83|    NO|\n",
            "| 252.141.157.25|         Japan|      cornell.edu|       374|    NO|\n",
            "|185.220.128.248|       Belgium|       weebly.com|       389|    NO|\n",
            "|   151.77.19.45|   Afghanistan|independent.co.uk|       282|    NO|\n",
            "|  9.161.158.225|     Indonesia|    bloglines.com|       726|    NO|\n",
            "| 156.144.61.155|Czech Republic|   slideshare.net|       657|    NO|\n",
            "|   8.96.188.151|     Indonesia|          ibm.com|       517|    NO|\n",
            "|      5.72.7.65|        Mexico|         youtu.be|       877|   YES|\n",
            "|227.110.112.144|       Croatia|         ehow.com|       287|    NO|\n",
            "|    81.71.28.97|      Thailand|          last.fm|       588|    NO|\n",
            "|  9.255.129.184|      Thailand|          mtv.com|       114|    NO|\n",
            "+---------------+--------------+-----------------+----------+------+\n",
            "only showing top 20 rows\n",
            "\n"
          ]
        }
      ]
    },
    {
      "cell_type": "code",
      "source": [
        "import pyspark.sql.functions as sqlfunc\n",
        "\n",
        "df1 = df.groupBy('Mexico').agg(sqlfunc.sum('Bytes_used').alias('total_used'))\n",
        "df1.show()"
      ],
      "metadata": {
        "colab": {
          "base_uri": "https://localhost:8080/"
        },
        "id": "N8lT5qBTF-ln",
        "outputId": "ac68558b-d07c-47be-c471-1672ed51535a"
      },
      "execution_count": 23,
      "outputs": [
        {
          "output_type": "stream",
          "name": "stdout",
          "text": [
            "+------+----------+\n",
            "|Mexico|total_used|\n",
            "+------+----------+\n",
            "|   YES|      6293|\n",
            "|    NO|    508076|\n",
            "+------+----------+\n",
            "\n"
          ]
        }
      ]
    },
    {
      "cell_type": "code",
      "source": [
        "df2 = df.groupBy('Country').agg(sqlfunc.countDistinct('ip_address').alias(\"number of IP's\"))\n",
        "df2.sort(col(\"number of IP's\").desc()).show()"
      ],
      "metadata": {
        "colab": {
          "base_uri": "https://localhost:8080/"
        },
        "id": "XiXmpAwsGXKX",
        "outputId": "3fc5a676-61c7-41e1-8845-a20612b3bb04"
      },
      "execution_count": 25,
      "outputs": [
        {
          "output_type": "stream",
          "name": "stdout",
          "text": [
            "+--------------+--------------+\n",
            "|       Country|number of IP's|\n",
            "+--------------+--------------+\n",
            "|         China|           172|\n",
            "|     Indonesia|           114|\n",
            "|   Philippines|            65|\n",
            "|        Russia|            56|\n",
            "|        Brazil|            35|\n",
            "|        Poland|            31|\n",
            "|        Sweden|            28|\n",
            "|         Japan|            25|\n",
            "|      Portugal|            23|\n",
            "|Czech Republic|            23|\n",
            "|        France|            21|\n",
            "|          Peru|            19|\n",
            "|      Colombia|            17|\n",
            "| United States|            15|\n",
            "|     Argentina|            14|\n",
            "|       Ukraine|            14|\n",
            "|        Mexico|            13|\n",
            "|      Thailand|            12|\n",
            "|       Nigeria|            11|\n",
            "|        Canada|            11|\n",
            "+--------------+--------------+\n",
            "only showing top 20 rows\n",
            "\n"
          ]
        }
      ]
    },
    {
      "cell_type": "code",
      "source": [],
      "metadata": {
        "id": "pbLAwR0_GsQZ"
      },
      "execution_count": null,
      "outputs": []
    }
  ]
}