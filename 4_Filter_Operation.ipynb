{
  "nbformat": 4,
  "nbformat_minor": 0,
  "metadata": {
    "colab": {
      "provenance": [],
      "authorship_tag": "ABX9TyOIX8gqWEGgoepIuH+C9gj2",
      "include_colab_link": true
    },
    "kernelspec": {
      "name": "python3",
      "display_name": "Python 3"
    },
    "language_info": {
      "name": "python"
    }
  },
  "cells": [
    {
      "cell_type": "markdown",
      "metadata": {
        "id": "view-in-github",
        "colab_type": "text"
      },
      "source": [
        "<a href=\"https://colab.research.google.com/github/Zenith1618/Learn-PySpark/blob/main/4_Filter_Operation.ipynb\" target=\"_parent\"><img src=\"https://colab.research.google.com/assets/colab-badge.svg\" alt=\"Open In Colab\"/></a>"
      ]
    },
    {
      "cell_type": "markdown",
      "source": [
        "# Session"
      ],
      "metadata": {
        "id": "Gojnng-DE_Ge"
      }
    },
    {
      "cell_type": "code",
      "execution_count": 1,
      "metadata": {
        "id": "E89hd3YAE7SR"
      },
      "outputs": [],
      "source": [
        "from pyspark.sql import SparkSession"
      ]
    },
    {
      "cell_type": "code",
      "source": [
        "spark = SparkSession.builder.appName('dataframe').getOrCreate()"
      ],
      "metadata": {
        "id": "esMNrlSwFA3W"
      },
      "execution_count": 2,
      "outputs": []
    },
    {
      "cell_type": "markdown",
      "source": [
        "#Loading Dataset"
      ],
      "metadata": {
        "id": "2dD4gulKFNag"
      }
    },
    {
      "cell_type": "code",
      "source": [
        "df = spark.read.csv('test1.csv', header = True, inferSchema= True)"
      ],
      "metadata": {
        "id": "-yY5yHywFLSA"
      },
      "execution_count": 3,
      "outputs": []
    },
    {
      "cell_type": "code",
      "source": [
        "df.show()"
      ],
      "metadata": {
        "colab": {
          "base_uri": "https://localhost:8080/"
        },
        "id": "d4Ah1incFnzo",
        "outputId": "f5b900af-7683-4daf-9c24-9b8b5a01c38e"
      },
      "execution_count": 4,
      "outputs": [
        {
          "output_type": "stream",
          "name": "stdout",
          "text": [
            "+---------+---+----------+------+\n",
            "|     Name|age|Experience|Salary|\n",
            "+---------+---+----------+------+\n",
            "|    Krish| 31|        10| 30000|\n",
            "|Sudhanshu| 30|         8| 25000|\n",
            "|    Sunny| 29|         4| 20000|\n",
            "|     Paul| 24|         3| 20000|\n",
            "|   Harsha| 21|         1| 15000|\n",
            "|  Shubham| 23|         2| 18000|\n",
            "+---------+---+----------+------+\n",
            "\n"
          ]
        }
      ]
    },
    {
      "cell_type": "markdown",
      "source": [
        "# Filter Operation"
      ],
      "metadata": {
        "id": "AslLrQ9MFw3j"
      }
    },
    {
      "cell_type": "markdown",
      "source": [
        "### Salary of the people less than or equal to 20k"
      ],
      "metadata": {
        "id": "t1RSp_V0FzJW"
      }
    },
    {
      "cell_type": "code",
      "source": [
        "df.filter(\"Salary<=20000\").show()"
      ],
      "metadata": {
        "colab": {
          "base_uri": "https://localhost:8080/"
        },
        "id": "Ve9FCEbYFo7z",
        "outputId": "9adc42a8-3890-49a3-c2bd-3b4e1e150277"
      },
      "execution_count": 5,
      "outputs": [
        {
          "output_type": "stream",
          "name": "stdout",
          "text": [
            "+-------+---+----------+------+\n",
            "|   Name|age|Experience|Salary|\n",
            "+-------+---+----------+------+\n",
            "|  Sunny| 29|         4| 20000|\n",
            "|   Paul| 24|         3| 20000|\n",
            "| Harsha| 21|         1| 15000|\n",
            "|Shubham| 23|         2| 18000|\n",
            "+-------+---+----------+------+\n",
            "\n"
          ]
        }
      ]
    },
    {
      "cell_type": "code",
      "source": [
        "# if you wanna select some specific colums with filter\n",
        "\n",
        "df.filter(\"Salary <= 20000\").select(['Name', 'Age']).show()"
      ],
      "metadata": {
        "colab": {
          "base_uri": "https://localhost:8080/"
        },
        "id": "oba3K07KF9vP",
        "outputId": "974d651d-45bb-41d5-e9b2-97dc7a47da22"
      },
      "execution_count": 6,
      "outputs": [
        {
          "output_type": "stream",
          "name": "stdout",
          "text": [
            "+-------+---+\n",
            "|   Name|Age|\n",
            "+-------+---+\n",
            "|  Sunny| 29|\n",
            "|   Paul| 24|\n",
            "| Harsha| 21|\n",
            "|Shubham| 23|\n",
            "+-------+---+\n",
            "\n"
          ]
        }
      ]
    },
    {
      "cell_type": "markdown",
      "source": [
        "### 2 different condition filtering"
      ],
      "metadata": {
        "id": "UrxIwF18GT_R"
      }
    },
    {
      "cell_type": "code",
      "source": [
        "df.filter((df['Salary']<=20000) & (df['age'] >= 25)).show()"
      ],
      "metadata": {
        "colab": {
          "base_uri": "https://localhost:8080/"
        },
        "id": "NWP8gJtgGPyY",
        "outputId": "f446e744-eb1b-4f5f-9acd-3095d109cfec"
      },
      "execution_count": 9,
      "outputs": [
        {
          "output_type": "stream",
          "name": "stdout",
          "text": [
            "+-----+---+----------+------+\n",
            "| Name|age|Experience|Salary|\n",
            "+-----+---+----------+------+\n",
            "|Sunny| 29|         4| 20000|\n",
            "+-----+---+----------+------+\n",
            "\n"
          ]
        }
      ]
    },
    {
      "cell_type": "markdown",
      "source": [
        "Other way to write: NOT"
      ],
      "metadata": {
        "id": "SCCRWVJIIQh0"
      }
    },
    {
      "cell_type": "code",
      "source": [
        "df.filter((df['Salary']<=20000) & ~(df['age'] <= 25)).show()"
      ],
      "metadata": {
        "colab": {
          "base_uri": "https://localhost:8080/"
        },
        "id": "9cTDjYWqH7Y7",
        "outputId": "38ede7ec-78f0-41b0-aaea-a55f9866b0cd"
      },
      "execution_count": 10,
      "outputs": [
        {
          "output_type": "stream",
          "name": "stdout",
          "text": [
            "+-----+---+----------+------+\n",
            "| Name|age|Experience|Salary|\n",
            "+-----+---+----------+------+\n",
            "|Sunny| 29|         4| 20000|\n",
            "+-----+---+----------+------+\n",
            "\n"
          ]
        }
      ]
    },
    {
      "cell_type": "code",
      "source": [],
      "metadata": {
        "id": "Pp9icpzCIbvc"
      },
      "execution_count": null,
      "outputs": []
    }
  ]
}